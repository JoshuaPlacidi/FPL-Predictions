{
  "cells": [
    {
      "cell_type": "markdown",
      "metadata": {
        "id": "HiOeMWbGt2rF",
        "colab_type": "text"
      },
      "source": [
        "# Creates player data files for a season\n",
        "## Imports and Data reads\n",
        "season = the season to read data for\n",
        "save_path = path to save generated csv's"
      ]
    },
    {
      "cell_type": "code",
      "execution_count": null,
      "metadata": {},
      "outputs": [],
      "source": [
        "import pandas as pd\n",
        "import altair as alt\n",
        "import numpy as np\n",
        "pd.options.mode.chained_assignment = None\n",
        "\n",
        "season = '2019-20'\n",
        "save_path = '/drive/My Drive/Dissdata/' + season\n",
        "\n",
        "players_raw = pd.read_csv('https://raw.githubusercontent.com/vaastav/Fantasy-Premier-League/master/data/' + season + '/players_raw.csv')\n",
        "input_merged_gw = pd.read_csv('https://raw.githubusercontent.com/vaastav/Fantasy-Premier-League/master/data/' + season + '/gws/merged_gw.csv', encoding = \"ISO-8859-1\")"
      ]
    },
    {
      "cell_type": "markdown",
      "metadata": {
        "id": "i0Ev1pznG8kq",
        "colab_type": "text"
      },
      "source": [
        "## Basic player info\n",
        "Reads basic info about the player such as ids, names and position"
      ]
    },
    {
      "cell_type": "code",
      "metadata": {
        "id": "__g4I0OrG_vW",
        "colab_type": "code",
        "colab": {}
      },
      "source": [
        "player_info = players_raw.copy()\n",
        "player_info = player_info[['id','first_name','second_name','element_type','now_cost','team_code']]\n",
        "player_info.rename(columns = {'id':'player_id','element_type':'position','now_cost':'cost'}, inplace = True)"
      ],
      "execution_count": 9,
      "outputs": []
    },
    {
      "cell_type": "markdown",
      "metadata": {
        "id": "LA8FRjvYuecU",
        "colab_type": "text"
      },
      "source": [
        "## Set Opponent Difficulty\n",
        "Difficulty = number of points the team finished the season on. Projections are used for the 19/20 season as it is currently ongoing."
      ]
    },
    {
      "cell_type": "code",
      "metadata": {
        "id": "XZC66c5pfHnu",
        "colab_type": "code",
        "colab": {}
      },
      "source": [
        "opp_diff_array = np.zeros(21)\n",
        "\n",
        "# 19/20 Season\n",
        "opp_diff_array[1] = 54.29  # Arsenal\n",
        "opp_diff_array[2] = 33.93  # Aston Villa\n",
        "opp_diff_array[3] = 35.38  # Bournemouth\n",
        "opp_diff_array[4] = 38     # Brighton\n",
        "opp_diff_array[5] = 51.1   # Burnley\n",
        "opp_diff_array[6] = 62.9   # Chelsea\n",
        "opp_diff_array[7] = 51.1   # Crystal Palace\n",
        "opp_diff_array[8] = 48.48  # Everton\n",
        "opp_diff_array[9] = 69.44  # Leicester\n",
        "opp_diff_array[10] = 107.45# Liverpool\n",
        "opp_diff_array[11] = 77.36 # Man City\n",
        "opp_diff_array[12] = 59    # Man Utd\n",
        "opp_diff_array[13] = 46.86 # Newcastle\n",
        "opp_diff_array[14] = 27.52 # Norwich\n",
        "opp_diff_array[15] = 58.36 # Sheffield Utd\n",
        "opp_diff_array[16] = 44.55 # Southampton\n",
        "opp_diff_array[17] = 53.72 # Spurs\n",
        "opp_diff_array[18] = 35.38 # Watford\n",
        "opp_diff_array[19] = 35.38 # West Ham\n",
        "opp_diff_array[20] = 56.34 # Wolves\n",
        "\n",
        "# 18/19 Season\n",
        "# opp_diff_array[1] = 70  # Arsenal\n",
        "# opp_diff_array[2] = 45  # Bournemouth\n",
        "# opp_diff_array[3] = 36  # Brighton\n",
        "# opp_diff_array[4] = 40  # Burnley\n",
        "# opp_diff_array[5] = 34  # Cardiff City\n",
        "# opp_diff_array[6] = 72  # Chelsea\n",
        "# opp_diff_array[7] = 49  # Crystal Palace\n",
        "# opp_diff_array[8] = 54  # Everton\n",
        "# opp_diff_array[9] = 26  # Fulham\n",
        "# opp_diff_array[10] = 16 # Huddersfield\n",
        "# opp_diff_array[11] = 52 # Leicester\n",
        "# opp_diff_array[12] = 97 # Liverpool\n",
        "# opp_diff_array[13] = 98 # Man city\n",
        "# opp_diff_array[14] = 55 # Man Utd\n",
        "# opp_diff_array[15] = 45 # Newcastle\n",
        "# opp_diff_array[16] = 39 # Southampton\n",
        "# opp_diff_array[17] = 71 # Spurs\n",
        "# opp_diff_array[18] = 50 # Watford\n",
        "# opp_diff_array[19] = 52 # West Ham\n",
        "# opp_diff_array[20] = 57 # Wolves\n",
        "\n",
        "# 17/18 Season\n",
        "# opp_diff_array[1] = 63  # Arsenal\n",
        "# opp_diff_array[2] = 44  # Bournemouth\n",
        "# opp_diff_array[3] = 40  # Brighton\n",
        "# opp_diff_array[4] = 54  # Burnley\n",
        "# opp_diff_array[5] = 70  # Chelsea\n",
        "# opp_diff_array[6] = 44  # Crystal Palace\n",
        "# opp_diff_array[7] = 49  # Everton\n",
        "# opp_diff_array[8] = 37  # Huddersfield\n",
        "# opp_diff_array[9] = 47  # Leicester\n",
        "# opp_diff_array[10] = 75 # Liverpool\n",
        "# opp_diff_array[11] = 100 # Man City\n",
        "# opp_diff_array[12] = 81 # Man Utd\n",
        "# opp_diff_array[13] = 44 # Newcastle\n",
        "# opp_diff_array[14] = 36 # Southampton\n",
        "# opp_diff_array[15] = 33 # Stoke\n",
        "# opp_diff_array[16] = 33 # Swansea\n",
        "# opp_diff_array[17] = 77 # Spurs\n",
        "# opp_diff_array[18] = 41 # Watford\n",
        "# opp_diff_array[19] = 31 # West Brom\n",
        "# opp_diff_array[20] = 42 # West Ham\n",
        "\n",
        " # 16/17 Season\n",
        "# opp_diff_array[1] = 75  # Arsenal\n",
        "# opp_diff_array[2] = 46  # Bournemouth\n",
        "# opp_diff_array[3] = 40  # Burnley\n",
        "# opp_diff_array[4] = 93  # Chelsea\n",
        "# opp_diff_array[5] = 41  # Crystal Palace\n",
        "# opp_diff_array[6] = 61  # Everton\n",
        "# opp_diff_array[7] = 34  # Hull\n",
        "# opp_diff_array[8] = 44  # Leicester\n",
        "# opp_diff_array[9] = 76  # Liverpool\n",
        "# opp_diff_array[10] = 78 # Man City\n",
        "# opp_diff_array[11] = 69 # Man Utd\n",
        "# opp_diff_array[12] = 28 # Middlesbrough\n",
        "# opp_diff_array[13] = 46 # Southampton\n",
        "# opp_diff_array[14] = 44 # Stoke\n",
        "# opp_diff_array[15] = 24 # Sunderland\n",
        "# opp_diff_array[16] = 41 # Swansea\n",
        "# opp_diff_array[17] = 86 # Spurs\n",
        "# opp_diff_array[18] = 40 # Watford\n",
        "# opp_diff_array[19] = 45 # West Brom\n",
        "# opp_diff_array[20] = 45 # West Ham"
      ],
      "execution_count": 10,
      "outputs": []
    },
    {
      "cell_type": "markdown",
      "metadata": {
        "id": "ayqasimcuao6",
        "colab_type": "text"
      },
      "source": [
        "## Create rolling df\n",
        "Creates rolling dataframe where each entry contains statistics from the previous *n_prev_games* (=3 by default). Removes gameweeks in the range of 1-*n_prev_games* due to the lack of sufficient prevouis games played."
      ]
    },
    {
      "cell_type": "code",
      "metadata": {
        "id": "opoRiCHoeOdo",
        "colab_type": "code",
        "colab": {}
      },
      "source": [
        "n_prev_gws = 3\n",
        "\n",
        "merged_gw = input_merged_gw.copy()\n",
        "\n",
        "# Limit gw info coloumns and rename them\n",
        "merged_gw = merged_gw[['element','GW','total_points','minutes','was_home','assists','bps','clean_sheets','goals_conceded',\n",
        "                          'goals_scored','ict_index','influence','opponent_team','own_goals','penalties_missed','value',\n",
        "                          'penalties_saved','yellow_cards','red_cards','saves','selected','threat','creativity',\n",
        "                          'transfers_balance']]\n",
        "\n",
        "merged_gw.rename(columns = {'element':'player_id','transfer_balance':'net_transfers','selected':'selected_by',\n",
        "                            'total_points':'points'}, inplace = True)\n",
        "\n",
        "# Merge player info and gameweek info dfs\n",
        "df = pd.merge(merged_gw,player_info, on='player_id').fillna(0)\n",
        "\n",
        "# Set the opp_diff for each game\n",
        "df['opp_diff'] = opp_diff_array[df.opponent_team]\n",
        "\n",
        "df = df.set_index(['GW'])\n",
        "\n",
        "# Constant coloumns holding the basic player data\n",
        "df_const_cols = df[['player_id','position','first_name','second_name','team_code','points','opp_diff','was_home','minutes','value']]\n",
        "\n",
        "# Set the statistics for a player for a gameweek equal to the sum of the statistics from the n_prev_gws gameweeks\n",
        "df = df.groupby(['player_id']).rolling(n_prev_gws).agg({'minutes':np.sum, 'bps':np.sum, 'influence':np.sum,\n",
        "                                                        'threat':np.sum,'ict_index':np.sum, 'creativity':np.sum,\n",
        "                                                        'yellow_cards':np.sum, 'red_cards':np.sum, 'selected_by':np.sum,\n",
        "                                                        'transfers_balance':np.sum, 'goals_scored':np.sum,\n",
        "                                                        'assists':np.sum, 'points':np.sum,\n",
        "                                                        'saves':np.sum,'goals_conceded':np.sum,'clean_sheets':np.sum}).shift(1).fillna(0)\n",
        "\n",
        "# Rename coloumns\n",
        "df.rename(columns = {'minutes':'minutes_sum','bps':'bps_sum','goals_scored':'goals_sum','assists':'assists_sum','points':'points_sum',\n",
        "                      'saves':'saves_sum','yellow_cards':'yel_sum','red_cards':'red_sum','transfers_balance':'tran_sum',\n",
        "                      'goals_conceded':'goals_con_sum','clean_sheets':'clean_sheets_sum','creativity':'creat_sum','threat':'threat_sum',\n",
        "                      'ict_index':'ict_sum','influence':'influence_sum'}, inplace = True)\n",
        "\n",
        "# Add player information back by merging the stats and the const_cols dfs\n",
        "df = pd.merge(df_const_cols,df, on=['GW','player_id']).reset_index()\n",
        "\n",
        "# Remove Gameweek rows less than n_prev_gws\n",
        "df = df[df.GW>n_prev_gws]\n",
        "df = df[df.minutes > 0]\n",
        "\n",
        "\n",
        "# Save csvs\n",
        "df['season'] = 1920\n",
        "df.to_csv('/drive/My Drive/Dissdata/NEW/1617.csv')\n",
        "df.head(20)"
      ],
      "execution_count": null,
      "outputs": []
    },
    {
      "cell_type": "markdown",
      "metadata": {
        "id": "hnImb0p921nn",
        "colab_type": "text"
      },
      "source": [
        "## Create merged gw for 16/17 and 17/18 seasons\n",
        "MergedGW files dont exist for the 16/17 and 17/18 seasons so this code just loops through the individual gw files and combines them"
      ]
    },
    {
      "cell_type": "code",
      "metadata": {
        "id": "_c95wGh823Qw",
        "colab_type": "code",
        "colab": {}
      },
      "source": [
        "url_start = 'https://raw.githubusercontent.com/vaastav/Fantasy-Premier-League/master/data/2016-17/gws/gw'\n",
        "url_end = '.csv'\n",
        "\n",
        "all_gw = pd.read_csv('https://raw.githubusercontent.com/vaastav/Fantasy-Premier-League/master/data/2016-17/gws/gw1.csv', encoding = \"ISO-8859-1\")\n",
        "all_gw['GW'] = 1\n",
        "for x in range(37):\n",
        "  gw_url = url_start + str(x+2) + url_end\n",
        "  current_gw = pd.read_csv(gw_url, encoding = \"ISO-8859-1\")\n",
        "  current_gw['GW'] = x+2\n",
        "  all_gw = pd.concat([all_gw, current_gw])\n",
        "\n",
        "all_gw.to_csv(save_path + 'MergedGW.csv')"
      ],
      "execution_count": null,
      "outputs": []
    }
  ],
  "metadata": {
    "colab": {
      "name": "Data Preperation",
      "provenance": [],
      "collapsed_sections": [
        "hnImb0p921nn"
      ]
    },
    "kernelspec": {
      "name": "python_defaultSpec_1593266750522",
      "display_name": "Python 3.8.3 32-bit"
    }
  },
  "nbformat": 4,
  "nbformat_minor": 0
}